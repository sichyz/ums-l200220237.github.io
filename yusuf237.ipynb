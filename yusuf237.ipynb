{
 "cells": [
  {
   "cell_type": "code",
   "execution_count": 1,
   "id": "1bad29a2-5d93-40af-8d6a-74a52e885d16",
   "metadata": {},
   "outputs": [],
   "source": [
    "import re\n",
    "from collections import defaultdict\n",
    "\n",
    "# Membaca file\n",
    "with open('_chat.txt', 'r', encoding='utf-8') as file:\n",
    "    lines = file.readlines()\n",
    "\n",
    "# Proses komentar berdasarkan grup\n",
    "group_data = defaultdict(list)\n",
    "current_group = None\n",
    "\n",
    "for line in lines:\n",
    "    if \"MENTORING FKI\" in line:\n",
    "        current_group = \"MENTORING FKI\"\n",
    "    elif \"GROUP NAME XYZ\" in line:  # Tambahkan nama grup lainnya\n",
    "        current_group = \"GROUP NAME XYZ\"\n",
    "    \n",
    "    if current_group:\n",
    "        group_data[current_group].append(line)\n",
    "\n",
    "# Pilih grup dengan jumlah komentar terbanyak\n",
    "selected_group = max(group_data, key=lambda k: len(group_data[k]))\n",
    "\n",
    "# Simpan data ke file teks\n",
    "with open('data_group.txt', 'w', encoding='utf-8') as file:\n",
    "    file.writelines(group_data[selected_group])\n"
   ]
  },
  {
   "cell_type": "code",
   "execution_count": 3,
   "id": "7d1c2682-a26c-4830-8ef5-d2ec32346795",
   "metadata": {},
   "outputs": [],
   "source": [
    "import tarfile\n",
    "\n",
    "with tarfile.open(\"data_group.tar\", \"w\") as tar:\n",
    "    tar.add(\"data_group.csv\")\n"
   ]
  },
  {
   "cell_type": "code",
   "execution_count": 4,
   "id": "33820d30-682c-4916-9753-00005c3b7a4d",
   "metadata": {},
   "outputs": [],
   "source": [
    "cleaned_lines = []\n",
    "for line in lines:\n",
    "    cleaned_line = re.sub(r'[^a-zA-Z0-9\\s.,!?]', '', line)\n",
    "    cleaned_lines.append(cleaned_line)\n",
    "\n",
    "# Simpan versi bersih\n",
    "with open('data_group_cleaned.txt', 'w', encoding='utf-8') as file:\n",
    "    file.writelines(cleaned_lines)\n"
   ]
  },
  {
   "cell_type": "code",
   "execution_count": 5,
   "id": "5dded09b-faea-4235-8062-173f52177d24",
   "metadata": {},
   "outputs": [
    {
     "name": "stdout",
     "output_type": "stream",
     "text": [
      "Cluster 3\n",
      "Cluster 0: whatsapp, fki, mentoring\n",
      "Cluster 1: whatsapp, fki, mentoring\n",
      "Cluster 2: whatsapp, fki, mentoring\n",
      "Cluster 4\n",
      "Cluster 0: whatsapp, fki, mentoring\n",
      "Cluster 1: whatsapp, fki, mentoring\n",
      "Cluster 2: whatsapp, fki, mentoring\n",
      "Cluster 3: whatsapp, fki, mentoring\n",
      "Cluster 5\n",
      "Cluster 0: whatsapp, fki, mentoring\n",
      "Cluster 1: whatsapp, fki, mentoring\n",
      "Cluster 2: whatsapp, fki, mentoring\n",
      "Cluster 3: whatsapp, fki, mentoring\n",
      "Cluster 4: whatsapp, fki, mentoring\n"
     ]
    }
   ],
   "source": [
    "from sklearn.feature_extraction.text import TfidfVectorizer\n",
    "from sklearn.cluster import KMeans\n",
    "from sklearn.metrics import silhouette_score\n",
    "\n",
    "# Membaca data\n",
    "with open('data_group_cleaned.txt', 'r', encoding='utf-8') as file:\n",
    "    data = file.readlines()\n",
    "\n",
    "# TF-IDF\n",
    "vectorizer = TfidfVectorizer(stop_words='english')\n",
    "X = vectorizer.fit_transform(data)\n",
    "\n",
    "# KMeans Clustering\n",
    "for n_clusters in [3, 4, 5]:\n",
    "    kmeans = KMeans(n_clusters=n_clusters, random_state=42)\n",
    "    labels = kmeans.fit_predict(X)\n",
    "    \n",
    "    print(f\"Cluster {n_clusters}\")\n",
    "    terms = vectorizer.get_feature_names_out()\n",
    "    for i in range(n_clusters):\n",
    "        top_terms = [terms[ind] for ind in kmeans.cluster_centers_.argsort()[0][-3:]]\n",
    "        print(f\"Cluster {i}: {', '.join(top_terms)}\")\n"
   ]
  },
  {
   "cell_type": "code",
   "execution_count": 6,
   "id": "5a26eee5-fbca-48c1-b0d3-2d272fa1a403",
   "metadata": {},
   "outputs": [
    {
     "name": "stdout",
     "output_type": "stream",
     "text": [
      "Laporan HTML tersimpan di: laporan.html\n"
     ]
    }
   ],
   "source": [
    "html_content = f\"\"\"\n",
    "<!DOCTYPE html>\n",
    "<html lang=\"en\">\n",
    "<head>\n",
    "    <meta charset=\"UTF-8\">\n",
    "    <meta name=\"viewport\" content=\"width=device-width, initial-scale=1.0\">\n",
    "    <title>Laporan Clustering</title>\n",
    "    <style>\n",
    "        body {{ font-family: Arial, sans-serif; margin: 20px; }}\n",
    "        h1 {{ color: #2c3e50; }}\n",
    "        .cluster {{ margin-bottom: 20px; }}\n",
    "    </style>\n",
    "</head>\n",
    "<body>\n",
    "    <h1>Laporan Hasil Clustering</h1>\n",
    "    <p>Data diproses dan dianalisis dengan metode TF-IDF dan algoritma KMeans untuk membuat 3, 4, dan 5 klaster.</p>\n",
    "    <h2>Analisis</h2>\n",
    "    <div>\n",
    "        <h3>Hasil Clustering (3 Klaster)</h3>\n",
    "        <p>... Analisis dan kata teratas ...</p>\n",
    "        <h3>Hasil Clustering (4 Klaster)</h3>\n",
    "        <p>... Analisis dan kata teratas ...</p>\n",
    "        <h3>Hasil Clustering (5 Klaster)</h3>\n",
    "        <p>... Analisis dan kata teratas ...</p>\n",
    "    </div>\n",
    "</body>\n",
    "</html>\n",
    "\"\"\"\n",
    "\n",
    "report_file = \"laporan.html\"\n",
    "with open(report_file, 'w', encoding='utf-8') as file:\n",
    "    file.write(html_content)\n",
    "\n",
    "print(f\"Laporan HTML tersimpan di: {report_file}\")\n"
   ]
  },
  {
   "cell_type": "code",
   "execution_count": null,
   "id": "179a6765-8b58-4a52-9e26-d24bd9176215",
   "metadata": {},
   "outputs": [],
   "source": []
  }
 ],
 "metadata": {
  "kernelspec": {
   "display_name": "Python 3 (ipykernel)",
   "language": "python",
   "name": "python3"
  },
  "language_info": {
   "codemirror_mode": {
    "name": "ipython",
    "version": 3
   },
   "file_extension": ".py",
   "mimetype": "text/x-python",
   "name": "python",
   "nbconvert_exporter": "python",
   "pygments_lexer": "ipython3",
   "version": "3.13.1"
  }
 },
 "nbformat": 4,
 "nbformat_minor": 5
}
